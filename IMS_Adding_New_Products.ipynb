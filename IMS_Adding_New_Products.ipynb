{
 "cells": [
  {
   "cell_type": "code",
   "execution_count": 1,
   "source": [
    "# Add New Products to Inventory\r\n",
    "\r\n",
    "import json\r\n",
    "\r\n",
    "f1 = open(\"Records.json\")\r\n",
    "data = f1.read()\r\n",
    "f1.close()\r\n",
    "\r\n",
    "records = json.loads(data)\r\n",
    "\r\n",
    "prod_id = input(\"Enter product id: \")\r\n",
    "\r\n",
    "if(prod_id not in records.keys()):\r\n",
    "    name = input(\"Enter name: \")\r\n",
    "    quantity = int(input(\"Enter quantity: \"))\r\n",
    "    price = int(input(\"Enter price: \"))\r\n",
    "    discount = int(input(\"Enter discount: \"))\r\n",
    "    company = input(\"Enter product company: \")\r\n",
    "\r\n",
    "    record = {\"name\":name, \"qn\":quantity, \"pr\":price, \"discount\": discount, \"company\": company}\r\n",
    "\r\n",
    "    records[prod_id] = record\r\n",
    "\r\n",
    "    f1 = open(\"Records.json\",'w')\r\n",
    "    data = json.dumps(records)\r\n",
    "    f1.write(data)\r\n",
    "    f1.close()\r\n",
    "else:\r\n",
    "    print(\"Duplicate product id is not allowed!\")"
   ],
   "outputs": [],
   "metadata": {}
  }
 ],
 "metadata": {
  "orig_nbformat": 4,
  "language_info": {
   "name": "python",
   "version": "3.8.5",
   "mimetype": "text/x-python",
   "codemirror_mode": {
    "name": "ipython",
    "version": 3
   },
   "pygments_lexer": "ipython3",
   "nbconvert_exporter": "python",
   "file_extension": ".py"
  },
  "kernelspec": {
   "name": "python3",
   "display_name": "Python 3.8.5 32-bit"
  },
  "interpreter": {
   "hash": "f2d42cc36b0354e75a32c5d038721da6afc5720d50ab001b38c8f20ae467f0e3"
  }
 },
 "nbformat": 4,
 "nbformat_minor": 2
}